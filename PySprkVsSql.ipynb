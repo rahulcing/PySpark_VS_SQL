{
 "cells": [
  {
   "cell_type": "code",
   "execution_count": null,
   "id": "bd8648be-f2e7-45b2-88f3-4432c9080a25",
   "metadata": {},
   "outputs": [],
   "source": [
    "# Ensure You're in a Databricks Notebook\n",
    "# Connecting to Azure Datalake gen 2 Configeration\n",
    "# using Mount method to connect Azure Dataklake\n",
    "# dbutils.fs.unmount(\"/mnt/bronze\") - used to unmount the db \n",
    "dbutils.fs.mount(\n",
    "    source = \"wasbs://bronze@gen2demo01.blob.core.windows.net/\",\n",
    "    mount_point = \"/mnt/bronze\",\n",
    "    extra_configs = {\"fs.azure.account.key.gen2demo01.blob.core.windows.net\":<Seceratekey>}\n",
    ")\n",
    "dbutils.fs.ls(\"/mnt/bronze\")"
   ]
  },
  {
   "cell_type": "code",
   "execution_count": null,
   "id": "90f149af-1423-4019-ad94-c7e1f6126ee0",
   "metadata": {},
   "outputs": [],
   "source": []
  }
 ],
 "metadata": {
  "kernelspec": {
   "display_name": "Python 3 (ipykernel)",
   "language": "python",
   "name": "python3"
  },
  "language_info": {
   "codemirror_mode": {
    "name": "ipython",
    "version": 3
   },
   "file_extension": ".py",
   "mimetype": "text/x-python",
   "name": "python",
   "nbconvert_exporter": "python",
   "pygments_lexer": "ipython3",
   "version": "3.11.7"
  }
 },
 "nbformat": 4,
 "nbformat_minor": 5
}
