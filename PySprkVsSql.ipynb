{
 "cells": [
  {
   "cell_type": "code",
   "execution_count": null,
   "id": "bd8648be-f2e7-45b2-88f3-4432c9080a25",
   "metadata": {},
   "outputs": [],
   "source": [
    "# Ensure You're in a Databricks Notebook\n",
    "# Connecting to Azure Datalake gen 2 Configeration\n",
    "# using Mount method to connect Azure Dataklake\n",
    "# dbutils.fs.unmount(\"/mnt/bronze\") - used to unmount the db \n",
    "dbutils.fs.mount(\n",
    "    source = \"wasbs://bronze@gen2demo01.blob.core.windows.net/\",\n",
    "    mount_point = \"/mnt/bronze\",\n",
    "    extra_configs = {\"fs.azure.account.key.gen2demo01.blob.core.windows.net\":<Seceratekey>}\n",
    ")\n",
    "dbutils.fs.ls(\"/mnt/bronze\")"
   ]
  },
  {
   "cell_type": "code",
   "execution_count": 5,
   "id": "90f149af-1423-4019-ad94-c7e1f6126ee0",
   "metadata": {},
   "outputs": [],
   "source": [
    "#Setting Path for data source\n",
    "input_path = '/mnt/bronze/SalesLT/Products/Product.parquet'\n",
    "df = spark.read.format('parquet').load(input_path)"
   ]
  },
  {
   "cell_type": "markdown",
   "id": "901be54a-36df-478a-9fd0-2fba5effc59c",
   "metadata": {},
   "source": [
    "**Selecting Column**\n"
   ]
  },
  {
   "cell_type": "markdown",
   "id": "76a7f7a5-4ffb-4932-8b48-142634bcafb7",
   "metadata": {},
   "source": [
    "**Column Name of the Product Table**\n",
    " |--ProductID: integer (nullable = true)\r\n",
    " |-- Name: string (nullable = true)\r\n",
    " |-- ProductNumber: string (nullable = true)\r\n",
    " |-- Color: string (nullable = true)\r\n",
    " |-- StandardCost: decimal(19,4) (nullable = true)\r\n",
    " |-- ListPrice: decimal(19,4) (nullable = true)\r\n",
    " |-- Size: string (nullable = true)\r\n",
    " |-- Weight: decimal(8,2) (nullable = true)\r\n",
    " |-- ProductCategoryID: integer (nullable = true)\r\n",
    " |-- ProductModelID: integer (nullable = true)\r\n",
    " |-- SellStartDate: timestamp (nullable = true)\r\n",
    " |-- SellEndDate: timestamp (nullable = true)\r\n",
    " |-- DiscontinuedDate: timestamp (nullable = true)\r\n",
    " |-- ThumbNailPhoto: binary (nullable = true)\r\n",
    " |-- ThumbnailPhotoFileName: string (nullable = true)\r\n",
    " |-- rowguid: string (nullable = true)\r\n",
    " |-- ModifiedDate: timestamp (nullable = true)"
   ]
  },
  {
   "cell_type": "code",
   "execution_count": null,
   "id": "53a6ba89-16d0-4af2-807d-afdfffc6751f",
   "metadata": {},
   "outputs": [],
   "source": [
    "# In PySpark\n",
    "selected_col = df.select(\"ProductID\", \"StandardCost\")"
   ]
  },
  {
   "cell_type": "code",
   "execution_count": null,
   "id": "b42607d4-1673-4a6c-9412-0ebc5a57de21",
   "metadata": {},
   "outputs": [],
   "source": []
  },
  {
   "cell_type": "code",
   "execution_count": null,
   "id": "efe64c19-f65e-49d4-9d7d-22bf0d2e7d2e",
   "metadata": {},
   "outputs": [],
   "source": []
  },
  {
   "cell_type": "code",
   "execution_count": null,
   "id": "bfdebd15-fbf8-47c5-b0c8-2614bc1d510d",
   "metadata": {},
   "outputs": [],
   "source": []
  },
  {
   "cell_type": "code",
   "execution_count": null,
   "id": "3da0d79f-d08a-42f4-a75b-0ea09576759b",
   "metadata": {},
   "outputs": [],
   "source": []
  },
  {
   "cell_type": "code",
   "execution_count": null,
   "id": "8ad1c4d4-7879-4cb2-b546-8e904f177587",
   "metadata": {},
   "outputs": [],
   "source": []
  }
 ],
 "metadata": {
  "kernelspec": {
   "display_name": "Python 3 (ipykernel)",
   "language": "python",
   "name": "python3"
  },
  "language_info": {
   "codemirror_mode": {
    "name": "ipython",
    "version": 3
   },
   "file_extension": ".py",
   "mimetype": "text/x-python",
   "name": "python",
   "nbconvert_exporter": "python",
   "pygments_lexer": "ipython3",
   "version": "3.11.7"
  }
 },
 "nbformat": 4,
 "nbformat_minor": 5
}
